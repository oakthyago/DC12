{
 "cells": [
  {
   "cell_type": "markdown",
   "id": "57adcc43",
   "metadata": {},
   "source": [
    "# Exctrating string useful information"
   ]
  },
  {
   "cell_type": "markdown",
   "id": "4cd07a6d",
   "metadata": {},
   "source": [
    "the only library that we will need is pandas and two functions apply and split"
   ]
  },
  {
   "cell_type": "code",
   "execution_count": 55,
   "id": "e1392f12",
   "metadata": {},
   "outputs": [],
   "source": [
    "import pandas as pd"
   ]
  },
  {
   "cell_type": "markdown",
   "id": "e323e992",
   "metadata": {},
   "source": [
    "I have to use the delimiter ; because the default separator of read_csv is ','"
   ]
  },
  {
   "cell_type": "code",
   "execution_count": 56,
   "id": "bc89b84d",
   "metadata": {},
   "outputs": [],
   "source": [
    "df = pd.read_csv(\"just legends 2.csv\",delimiter=';')"
   ]
  },
  {
   "cell_type": "markdown",
   "id": "c7ce4819",
   "metadata": {},
   "source": [
    "to keep the portuguese á é í ... I saved the excel format CSV UTF-8"
   ]
  },
  {
   "cell_type": "code",
   "execution_count": 57,
   "id": "983a7da6",
   "metadata": {},
   "outputs": [
    {
     "data": {
      "text/html": [
       "<div>\n",
       "<style scoped>\n",
       "    .dataframe tbody tr th:only-of-type {\n",
       "        vertical-align: middle;\n",
       "    }\n",
       "\n",
       "    .dataframe tbody tr th {\n",
       "        vertical-align: top;\n",
       "    }\n",
       "\n",
       "    .dataframe thead th {\n",
       "        text-align: right;\n",
       "    }\n",
       "</style>\n",
       "<table border=\"1\" class=\"dataframe\">\n",
       "  <thead>\n",
       "    <tr style=\"text-align: right;\">\n",
       "      <th></th>\n",
       "      <th>column</th>\n",
       "      <th>Legend</th>\n",
       "    </tr>\n",
       "  </thead>\n",
       "  <tbody>\n",
       "    <tr>\n",
       "      <th>0</th>\n",
       "      <td>F_KWH_TF</td>\n",
       "      <td>Paulinha:\\nConsumo de Energia Ativa Total Fatu...</td>\n",
       "    </tr>\n",
       "    <tr>\n",
       "      <th>1</th>\n",
       "      <td>F_KWH_PF</td>\n",
       "      <td>Paulinha:\\nConsumo Energia Ativa Ponta Faturado.</td>\n",
       "    </tr>\n",
       "    <tr>\n",
       "      <th>2</th>\n",
       "      <td>F_KWH_FPF</td>\n",
       "      <td>Paulinha:\\nConsumo Energia Ativa Fora-Ponta Fa...</td>\n",
       "    </tr>\n",
       "    <tr>\n",
       "      <th>3</th>\n",
       "      <td>F_KVARH_RR</td>\n",
       "      <td>Paulinha:\\nConsumo de Energia Reativa Total\\nR...</td>\n",
       "    </tr>\n",
       "    <tr>\n",
       "      <th>4</th>\n",
       "      <td>F_KVARH_RPR</td>\n",
       "      <td>Paulinha:\\nConsumo Energia Reativa Ponta Regis...</td>\n",
       "    </tr>\n",
       "  </tbody>\n",
       "</table>\n",
       "</div>"
      ],
      "text/plain": [
       "        column                                             Legend\n",
       "0     F_KWH_TF  Paulinha:\\nConsumo de Energia Ativa Total Fatu...\n",
       "1     F_KWH_PF   Paulinha:\\nConsumo Energia Ativa Ponta Faturado.\n",
       "2    F_KWH_FPF  Paulinha:\\nConsumo Energia Ativa Fora-Ponta Fa...\n",
       "3   F_KVARH_RR  Paulinha:\\nConsumo de Energia Reativa Total\\nR...\n",
       "4  F_KVARH_RPR  Paulinha:\\nConsumo Energia Reativa Ponta Regis..."
      ]
     },
     "execution_count": 57,
     "metadata": {},
     "output_type": "execute_result"
    }
   ],
   "source": [
    "df.head()"
   ]
  },
  {
   "cell_type": "markdown",
   "id": "db45f654",
   "metadata": {},
   "source": [
    "the comment that we take of from excel has the Autors name in the beggining to take it of \n",
    "I will use apply and split function to get the second array [1] when I split the string on split('\\n')\n",
    "its such a powerful aplication to separete string variables that we can use in a machine learning model"
   ]
  },
  {
   "cell_type": "code",
   "execution_count": 58,
   "id": "3cb0e8fc",
   "metadata": {},
   "outputs": [],
   "source": [
    "df[\"Legend\"] = df[\"Legend\"].apply(lambda x: x.split('\\n')[1])"
   ]
  },
  {
   "cell_type": "code",
   "execution_count": 54,
   "id": "76989861",
   "metadata": {},
   "outputs": [
    {
     "data": {
      "text/html": [
       "<div>\n",
       "<style scoped>\n",
       "    .dataframe tbody tr th:only-of-type {\n",
       "        vertical-align: middle;\n",
       "    }\n",
       "\n",
       "    .dataframe tbody tr th {\n",
       "        vertical-align: top;\n",
       "    }\n",
       "\n",
       "    .dataframe thead th {\n",
       "        text-align: right;\n",
       "    }\n",
       "</style>\n",
       "<table border=\"1\" class=\"dataframe\">\n",
       "  <thead>\n",
       "    <tr style=\"text-align: right;\">\n",
       "      <th></th>\n",
       "      <th>column</th>\n",
       "      <th>Legend</th>\n",
       "    </tr>\n",
       "  </thead>\n",
       "  <tbody>\n",
       "    <tr>\n",
       "      <th>0</th>\n",
       "      <td>F_KWH_TF</td>\n",
       "      <td>Consumo de Energia Ativa Total Faturada</td>\n",
       "    </tr>\n",
       "    <tr>\n",
       "      <th>1</th>\n",
       "      <td>F_KWH_PF</td>\n",
       "      <td>Consumo Energia Ativa Ponta Faturado.</td>\n",
       "    </tr>\n",
       "    <tr>\n",
       "      <th>2</th>\n",
       "      <td>F_KWH_FPF</td>\n",
       "      <td>Consumo Energia Ativa Fora-Ponta Faturado.</td>\n",
       "    </tr>\n",
       "    <tr>\n",
       "      <th>3</th>\n",
       "      <td>F_KVARH_RR</td>\n",
       "      <td>Consumo de Energia Reativa Total</td>\n",
       "    </tr>\n",
       "    <tr>\n",
       "      <th>4</th>\n",
       "      <td>F_KVARH_RPR</td>\n",
       "      <td>Consumo Energia Reativa Ponta Registrado</td>\n",
       "    </tr>\n",
       "  </tbody>\n",
       "</table>\n",
       "</div>"
      ],
      "text/plain": [
       "        column                                      Legend\n",
       "0     F_KWH_TF     Consumo de Energia Ativa Total Faturada\n",
       "1     F_KWH_PF       Consumo Energia Ativa Ponta Faturado.\n",
       "2    F_KWH_FPF  Consumo Energia Ativa Fora-Ponta Faturado.\n",
       "3   F_KVARH_RR            Consumo de Energia Reativa Total\n",
       "4  F_KVARH_RPR    Consumo Energia Reativa Ponta Registrado"
      ]
     },
     "execution_count": 54,
     "metadata": {},
     "output_type": "execute_result"
    }
   ],
   "source": [
    "df.head()"
   ]
  },
  {
   "cell_type": "markdown",
   "id": "e60cfce7",
   "metadata": {},
   "source": [
    "just saving the csv now"
   ]
  },
  {
   "cell_type": "code",
   "execution_count": 46,
   "id": "562fc5b1",
   "metadata": {},
   "outputs": [],
   "source": [
    "df.to_csv(\"legend separated.csv\",index=False)"
   ]
  }
 ],
 "metadata": {
  "kernelspec": {
   "display_name": "Python 3",
   "language": "python",
   "name": "python3"
  },
  "language_info": {
   "codemirror_mode": {
    "name": "ipython",
    "version": 3
   },
   "file_extension": ".py",
   "mimetype": "text/x-python",
   "name": "python",
   "nbconvert_exporter": "python",
   "pygments_lexer": "ipython3",
   "version": "3.8.8"
  }
 },
 "nbformat": 4,
 "nbformat_minor": 5
}
