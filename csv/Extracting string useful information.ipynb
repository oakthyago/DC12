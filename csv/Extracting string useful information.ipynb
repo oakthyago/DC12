{
 "cells": [
  {
   "cell_type": "markdown",
   "metadata": {},
   "source": [
    "# Exctrating string useful information"
   ]
  },
  {
   "cell_type": "markdown",
   "metadata": {},
   "source": [
    "the only library that we will need is pandas and two functions apply and split"
   ]
  },
  {
   "cell_type": "code",
   "execution_count": 1,
   "metadata": {
    "execution": {
     "iopub.execute_input": "2022-02-20T16:04:32.404173Z",
     "iopub.status.busy": "2022-02-20T16:04:32.403719Z",
     "iopub.status.idle": "2022-02-20T16:04:32.408649Z",
     "shell.execute_reply": "2022-02-20T16:04:32.407671Z",
     "shell.execute_reply.started": "2022-02-20T16:04:32.404137Z"
    }
   },
   "outputs": [],
   "source": [
    "import pandas as pd"
   ]
  },
  {
   "cell_type": "markdown",
   "metadata": {},
   "source": [
    "I have to use the delimiter ; because the default separator of read_csv is ','"
   ]
  },
  {
   "cell_type": "code",
   "execution_count": 3,
   "metadata": {
    "execution": {
     "iopub.execute_input": "2022-02-20T16:04:34.170871Z",
     "iopub.status.busy": "2022-02-20T16:04:34.170515Z",
     "iopub.status.idle": "2022-02-20T16:04:34.194590Z",
     "shell.execute_reply": "2022-02-20T16:04:34.193949Z",
     "shell.execute_reply.started": "2022-02-20T16:04:34.170837Z"
    }
   },
   "outputs": [],
   "source": [
    "df = pd.read_csv(\"just legends 2.csv\",delimiter=';')"
   ]
  },
  {
   "cell_type": "markdown",
   "metadata": {},
   "source": [
    "to keep the portuguese á é í ... I saved the excel format CSV UTF-8"
   ]
  },
  {
   "cell_type": "code",
   "execution_count": 4,
   "metadata": {
    "execution": {
     "iopub.execute_input": "2022-02-20T16:04:36.511707Z",
     "iopub.status.busy": "2022-02-20T16:04:36.511401Z",
     "iopub.status.idle": "2022-02-20T16:04:36.530462Z",
     "shell.execute_reply": "2022-02-20T16:04:36.529469Z",
     "shell.execute_reply.started": "2022-02-20T16:04:36.511673Z"
    }
   },
   "outputs": [
    {
     "data": {
      "text/html": [
       "<div>\n",
       "<style scoped>\n",
       "    .dataframe tbody tr th:only-of-type {\n",
       "        vertical-align: middle;\n",
       "    }\n",
       "\n",
       "    .dataframe tbody tr th {\n",
       "        vertical-align: top;\n",
       "    }\n",
       "\n",
       "    .dataframe thead th {\n",
       "        text-align: right;\n",
       "    }\n",
       "</style>\n",
       "<table border=\"1\" class=\"dataframe\">\n",
       "  <thead>\n",
       "    <tr style=\"text-align: right;\">\n",
       "      <th></th>\n",
       "      <th>column</th>\n",
       "      <th>Legend</th>\n",
       "    </tr>\n",
       "  </thead>\n",
       "  <tbody>\n",
       "    <tr>\n",
       "      <th>0</th>\n",
       "      <td>F_KWH_TF</td>\n",
       "      <td>Paulinha:\\nConsumo de Energia Ativa Total Fatu...</td>\n",
       "    </tr>\n",
       "    <tr>\n",
       "      <th>1</th>\n",
       "      <td>F_KWH_PF</td>\n",
       "      <td>Paulinha:\\nConsumo Energia Ativa Ponta Faturado.</td>\n",
       "    </tr>\n",
       "    <tr>\n",
       "      <th>2</th>\n",
       "      <td>F_KWH_FPF</td>\n",
       "      <td>Paulinha:\\nConsumo Energia Ativa Fora-Ponta Fa...</td>\n",
       "    </tr>\n",
       "    <tr>\n",
       "      <th>3</th>\n",
       "      <td>F_KVARH_RR</td>\n",
       "      <td>Paulinha:\\nConsumo de Energia Reativa Total\\nR...</td>\n",
       "    </tr>\n",
       "    <tr>\n",
       "      <th>4</th>\n",
       "      <td>F_KVARH_RPR</td>\n",
       "      <td>Paulinha:\\nConsumo Energia Reativa Ponta Regis...</td>\n",
       "    </tr>\n",
       "  </tbody>\n",
       "</table>\n",
       "</div>"
      ],
      "text/plain": [
       "        column                                             Legend\n",
       "0     F_KWH_TF  Paulinha:\\nConsumo de Energia Ativa Total Fatu...\n",
       "1     F_KWH_PF   Paulinha:\\nConsumo Energia Ativa Ponta Faturado.\n",
       "2    F_KWH_FPF  Paulinha:\\nConsumo Energia Ativa Fora-Ponta Fa...\n",
       "3   F_KVARH_RR  Paulinha:\\nConsumo de Energia Reativa Total\\nR...\n",
       "4  F_KVARH_RPR  Paulinha:\\nConsumo Energia Reativa Ponta Regis..."
      ]
     },
     "execution_count": 4,
     "metadata": {},
     "output_type": "execute_result"
    }
   ],
   "source": [
    "df.head()"
   ]
  },
  {
   "cell_type": "markdown",
   "metadata": {},
   "source": [
    "the comment that we take of from excel has the Autors name in the beggining to take it of \n",
    "I will use apply and split function to get the second array [1] when I split the string on split('\\n')\n",
    "its such a powerful aplication to separete string variables that we can use in a machine learning model"
   ]
  },
  {
   "cell_type": "code",
   "execution_count": 5,
   "metadata": {
    "execution": {
     "iopub.execute_input": "2022-02-20T16:04:39.601450Z",
     "iopub.status.busy": "2022-02-20T16:04:39.601045Z",
     "iopub.status.idle": "2022-02-20T16:04:39.610909Z",
     "shell.execute_reply": "2022-02-20T16:04:39.609941Z",
     "shell.execute_reply.started": "2022-02-20T16:04:39.601407Z"
    }
   },
   "outputs": [],
   "source": [
    "df[\"Legend\"] = df[\"Legend\"].apply(lambda x: x.split('\\n')[1])"
   ]
  },
  {
   "cell_type": "code",
   "execution_count": 6,
   "metadata": {
    "execution": {
     "iopub.execute_input": "2022-02-20T16:04:41.234294Z",
     "iopub.status.busy": "2022-02-20T16:04:41.234036Z",
     "iopub.status.idle": "2022-02-20T16:04:41.243689Z",
     "shell.execute_reply": "2022-02-20T16:04:41.242776Z",
     "shell.execute_reply.started": "2022-02-20T16:04:41.234268Z"
    }
   },
   "outputs": [
    {
     "data": {
      "text/html": [
       "<div>\n",
       "<style scoped>\n",
       "    .dataframe tbody tr th:only-of-type {\n",
       "        vertical-align: middle;\n",
       "    }\n",
       "\n",
       "    .dataframe tbody tr th {\n",
       "        vertical-align: top;\n",
       "    }\n",
       "\n",
       "    .dataframe thead th {\n",
       "        text-align: right;\n",
       "    }\n",
       "</style>\n",
       "<table border=\"1\" class=\"dataframe\">\n",
       "  <thead>\n",
       "    <tr style=\"text-align: right;\">\n",
       "      <th></th>\n",
       "      <th>column</th>\n",
       "      <th>Legend</th>\n",
       "    </tr>\n",
       "  </thead>\n",
       "  <tbody>\n",
       "    <tr>\n",
       "      <th>0</th>\n",
       "      <td>F_KWH_TF</td>\n",
       "      <td>Consumo de Energia Ativa Total Faturada</td>\n",
       "    </tr>\n",
       "    <tr>\n",
       "      <th>1</th>\n",
       "      <td>F_KWH_PF</td>\n",
       "      <td>Consumo Energia Ativa Ponta Faturado.</td>\n",
       "    </tr>\n",
       "    <tr>\n",
       "      <th>2</th>\n",
       "      <td>F_KWH_FPF</td>\n",
       "      <td>Consumo Energia Ativa Fora-Ponta Faturado.</td>\n",
       "    </tr>\n",
       "    <tr>\n",
       "      <th>3</th>\n",
       "      <td>F_KVARH_RR</td>\n",
       "      <td>Consumo de Energia Reativa Total</td>\n",
       "    </tr>\n",
       "    <tr>\n",
       "      <th>4</th>\n",
       "      <td>F_KVARH_RPR</td>\n",
       "      <td>Consumo Energia Reativa Ponta Registrado</td>\n",
       "    </tr>\n",
       "  </tbody>\n",
       "</table>\n",
       "</div>"
      ],
      "text/plain": [
       "        column                                      Legend\n",
       "0     F_KWH_TF     Consumo de Energia Ativa Total Faturada\n",
       "1     F_KWH_PF       Consumo Energia Ativa Ponta Faturado.\n",
       "2    F_KWH_FPF  Consumo Energia Ativa Fora-Ponta Faturado.\n",
       "3   F_KVARH_RR            Consumo de Energia Reativa Total\n",
       "4  F_KVARH_RPR    Consumo Energia Reativa Ponta Registrado"
      ]
     },
     "execution_count": 6,
     "metadata": {},
     "output_type": "execute_result"
    }
   ],
   "source": [
    "df.head()"
   ]
  },
  {
   "cell_type": "markdown",
   "metadata": {},
   "source": [
    "just saving the csv now"
   ]
  },
  {
   "cell_type": "code",
   "execution_count": null,
   "metadata": {
    "execution": {
     "iopub.execute_input": "2022-02-19T23:32:16.956196Z",
     "iopub.status.busy": "2022-02-19T23:32:16.955768Z",
     "iopub.status.idle": "2022-02-19T23:32:16.965376Z",
     "shell.execute_reply": "2022-02-19T23:32:16.96469Z",
     "shell.execute_reply.started": "2022-02-19T23:32:16.956165Z"
    }
   },
   "outputs": [],
   "source": [
    "#df.to_csv(\"legend separated.csv\",index=False)"
   ]
  },
  {
   "cell_type": "code",
   "execution_count": 8,
   "metadata": {
    "execution": {
     "iopub.execute_input": "2022-02-20T02:46:05.458464Z",
     "iopub.status.busy": "2022-02-20T02:46:05.458137Z",
     "iopub.status.idle": "2022-02-20T02:46:18.804739Z",
     "shell.execute_reply": "2022-02-20T02:46:18.804053Z",
     "shell.execute_reply.started": "2022-02-20T02:46:05.458373Z"
    }
   },
   "outputs": [
    {
     "name": "stdout",
     "output_type": "stream",
     "text": [
      "Collecting googletrans==3.1.0a0\n",
      "  Using cached googletrans-3.1.0a0-py3-none-any.whl\n",
      "Requirement already satisfied: httpx==0.13.3 in c:\\users\\thyag\\appdata\\roaming\\python\\python38\\site-packages (from googletrans==3.1.0a0) (0.13.3)\n",
      "Requirement already satisfied: hstspreload in c:\\programdata\\anaconda3\\lib\\site-packages (from httpx==0.13.3->googletrans==3.1.0a0) (2021.12.1)\n",
      "Requirement already satisfied: rfc3986<2,>=1.3 in c:\\programdata\\anaconda3\\lib\\site-packages (from httpx==0.13.3->googletrans==3.1.0a0) (1.5.0)\n",
      "Requirement already satisfied: certifi in c:\\programdata\\anaconda3\\lib\\site-packages (from httpx==0.13.3->googletrans==3.1.0a0) (2020.12.5)\n",
      "Requirement already satisfied: chardet==3.* in c:\\users\\thyag\\appdata\\roaming\\python\\python38\\site-packages (from httpx==0.13.3->googletrans==3.1.0a0) (3.0.4)\n",
      "Requirement already satisfied: httpcore==0.9.* in c:\\programdata\\anaconda3\\lib\\site-packages (from httpx==0.13.3->googletrans==3.1.0a0) (0.9.1)\n",
      "Requirement already satisfied: idna==2.* in c:\\programdata\\anaconda3\\lib\\site-packages (from httpx==0.13.3->googletrans==3.1.0a0) (2.10)\n",
      "Requirement already satisfied: sniffio in c:\\programdata\\anaconda3\\lib\\site-packages (from httpx==0.13.3->googletrans==3.1.0a0) (1.2.0)\n",
      "Requirement already satisfied: h2==3.* in c:\\programdata\\anaconda3\\lib\\site-packages (from httpcore==0.9.*->httpx==0.13.3->googletrans==3.1.0a0) (3.2.0)\n",
      "Requirement already satisfied: h11<0.10,>=0.8 in c:\\programdata\\anaconda3\\lib\\site-packages (from httpcore==0.9.*->httpx==0.13.3->googletrans==3.1.0a0) (0.9.0)\n",
      "Requirement already satisfied: hyperframe<6,>=5.2.0 in c:\\programdata\\anaconda3\\lib\\site-packages (from h2==3.*->httpcore==0.9.*->httpx==0.13.3->googletrans==3.1.0a0) (5.2.0)\n",
      "Requirement already satisfied: hpack<4,>=3.0 in c:\\programdata\\anaconda3\\lib\\site-packages (from h2==3.*->httpcore==0.9.*->httpx==0.13.3->googletrans==3.1.0a0) (3.0.0)\n",
      "Installing collected packages: googletrans\n",
      "Successfully installed googletrans-3.1.0a0\n"
     ]
    }
   ],
   "source": [
    "#pip install googletrans --user\n",
    "!pip install googletrans==3.1.0a0"
   ]
  },
  {
   "cell_type": "code",
   "execution_count": 9,
   "metadata": {
    "execution": {
     "iopub.execute_input": "2022-02-20T16:04:49.509863Z",
     "iopub.status.busy": "2022-02-20T16:04:49.509394Z",
     "iopub.status.idle": "2022-02-20T16:04:49.513015Z",
     "shell.execute_reply": "2022-02-20T16:04:49.512445Z",
     "shell.execute_reply.started": "2022-02-20T16:04:49.509832Z"
    }
   },
   "outputs": [],
   "source": [
    "from googletrans import Translator\n",
    "translator = Translator(service_urls=['translate.googleapis.com'])"
   ]
  },
  {
   "cell_type": "code",
   "execution_count": 10,
   "metadata": {
    "execution": {
     "iopub.execute_input": "2022-02-20T16:09:14.675462Z",
     "iopub.status.busy": "2022-02-20T16:09:14.674803Z",
     "iopub.status.idle": "2022-02-20T16:09:23.934053Z",
     "shell.execute_reply": "2022-02-20T16:09:23.933009Z",
     "shell.execute_reply.started": "2022-02-20T16:09:14.675412Z"
    }
   },
   "outputs": [],
   "source": [
    "EnLeg=[]\n",
    "\n",
    "for x in range(len(df[\"Legend\"])):\n",
    "    \n",
    "    text = translator.translate(df[\"Legend\"][x],dest=\"en\")\n",
    "    EnLeg.append(text.text)"
   ]
  },
  {
   "cell_type": "code",
   "execution_count": 11,
   "metadata": {
    "execution": {
     "iopub.execute_input": "2022-02-20T16:15:14.691144Z",
     "iopub.status.busy": "2022-02-20T16:15:14.690539Z",
     "iopub.status.idle": "2022-02-20T16:15:14.697719Z",
     "shell.execute_reply": "2022-02-20T16:15:14.696758Z",
     "shell.execute_reply.started": "2022-02-20T16:15:14.691098Z"
    }
   },
   "outputs": [],
   "source": [
    "df=pd.concat([df,pd.Series(EnLeg)],axis=1)\n"
   ]
  },
  {
   "cell_type": "code",
   "execution_count": 12,
   "metadata": {
    "execution": {
     "iopub.execute_input": "2022-02-20T16:14:42.795259Z",
     "iopub.status.busy": "2022-02-20T16:14:42.794687Z",
     "iopub.status.idle": "2022-02-20T16:14:42.802647Z",
     "shell.execute_reply": "2022-02-20T16:14:42.801669Z",
     "shell.execute_reply.started": "2022-02-20T16:14:42.795204Z"
    }
   },
   "outputs": [],
   "source": [
    "df.drop(\"Legend\",inplace=True,axis=1)"
   ]
  },
  {
   "cell_type": "code",
   "execution_count": 13,
   "metadata": {
    "execution": {
     "iopub.execute_input": "2022-02-20T16:16:45.640852Z",
     "iopub.status.busy": "2022-02-20T16:16:45.640573Z",
     "iopub.status.idle": "2022-02-20T16:16:45.645925Z",
     "shell.execute_reply": "2022-02-20T16:16:45.645214Z",
     "shell.execute_reply.started": "2022-02-20T16:16:45.640820Z"
    }
   },
   "outputs": [],
   "source": [
    "df.rename({0: 'Legend'}, axis=1, inplace=True)"
   ]
  },
  {
   "cell_type": "code",
   "execution_count": 15,
   "metadata": {
    "execution": {
     "iopub.execute_input": "2022-02-20T16:17:14.232411Z",
     "iopub.status.busy": "2022-02-20T16:17:14.232153Z",
     "iopub.status.idle": "2022-02-20T16:17:14.241588Z",
     "shell.execute_reply": "2022-02-20T16:17:14.240696Z",
     "shell.execute_reply.started": "2022-02-20T16:17:14.232385Z"
    }
   },
   "outputs": [
    {
     "data": {
      "text/html": [
       "<div>\n",
       "<style scoped>\n",
       "    .dataframe tbody tr th:only-of-type {\n",
       "        vertical-align: middle;\n",
       "    }\n",
       "\n",
       "    .dataframe tbody tr th {\n",
       "        vertical-align: top;\n",
       "    }\n",
       "\n",
       "    .dataframe thead th {\n",
       "        text-align: right;\n",
       "    }\n",
       "</style>\n",
       "<table border=\"1\" class=\"dataframe\">\n",
       "  <thead>\n",
       "    <tr style=\"text-align: right;\">\n",
       "      <th></th>\n",
       "      <th>column</th>\n",
       "      <th>Legend</th>\n",
       "    </tr>\n",
       "  </thead>\n",
       "  <tbody>\n",
       "    <tr>\n",
       "      <th>0</th>\n",
       "      <td>F_KWH_TF</td>\n",
       "      <td>Total Billed Active Energy Consumption</td>\n",
       "    </tr>\n",
       "    <tr>\n",
       "      <th>1</th>\n",
       "      <td>F_KWH_PF</td>\n",
       "      <td>Active Energy Consumption Billed Point.</td>\n",
       "    </tr>\n",
       "    <tr>\n",
       "      <th>2</th>\n",
       "      <td>F_KWH_FPF</td>\n",
       "      <td>Billed Off-peak Active Energy Consumption.</td>\n",
       "    </tr>\n",
       "    <tr>\n",
       "      <th>3</th>\n",
       "      <td>F_KVARH_RR</td>\n",
       "      <td>Total Reactive Energy Consumption</td>\n",
       "    </tr>\n",
       "    <tr>\n",
       "      <th>4</th>\n",
       "      <td>F_KVARH_RPR</td>\n",
       "      <td>Consumption Reactive Energy Registered End</td>\n",
       "    </tr>\n",
       "    <tr>\n",
       "      <th>5</th>\n",
       "      <td>F_KVARH_RFPR</td>\n",
       "      <td>Off-peak Reactive Energy Consumption</td>\n",
       "    </tr>\n",
       "    <tr>\n",
       "      <th>6</th>\n",
       "      <td>F_KW_DTR</td>\n",
       "      <td>Total Registered Demand.</td>\n",
       "    </tr>\n",
       "    <tr>\n",
       "      <th>7</th>\n",
       "      <td>F_KW_DPR</td>\n",
       "      <td>Demand Point Registered.</td>\n",
       "    </tr>\n",
       "    <tr>\n",
       "      <th>8</th>\n",
       "      <td>F_KW_DFPR</td>\n",
       "      <td>Registered Off-End Demand.</td>\n",
       "    </tr>\n",
       "    <tr>\n",
       "      <th>9</th>\n",
       "      <td>F_KW_DTF</td>\n",
       "      <td>On Demand Total Invoice.</td>\n",
       "    </tr>\n",
       "    <tr>\n",
       "      <th>10</th>\n",
       "      <td>F_KW_DPF</td>\n",
       "      <td>Demanda Ponta Invoice.</td>\n",
       "    </tr>\n",
       "    <tr>\n",
       "      <th>11</th>\n",
       "      <td>F_KW_DFPF</td>\n",
       "      <td>In Demanda Fora-Ponta Invoice.</td>\n",
       "    </tr>\n",
       "    <tr>\n",
       "      <th>12</th>\n",
       "      <td>F_KW_DPC</td>\n",
       "      <td>Demand Point Contracted.</td>\n",
       "    </tr>\n",
       "    <tr>\n",
       "      <th>13</th>\n",
       "      <td>F_KW_DFPC</td>\n",
       "      <td>Contracted Off-End Demand.</td>\n",
       "    </tr>\n",
       "    <tr>\n",
       "      <th>14</th>\n",
       "      <td>F_KW_DTU</td>\n",
       "      <td>Total Demand Exceeded</td>\n",
       "    </tr>\n",
       "    <tr>\n",
       "      <th>15</th>\n",
       "      <td>F_KW_DPU</td>\n",
       "      <td>Peak Demand Exceeded</td>\n",
       "    </tr>\n",
       "    <tr>\n",
       "      <th>16</th>\n",
       "      <td>F_KW_DFPU</td>\n",
       "      <td>Exceeded Off-End Demand</td>\n",
       "    </tr>\n",
       "    <tr>\n",
       "      <th>17</th>\n",
       "      <td>F_MED_ATIVO</td>\n",
       "      <td>Active Meter Number</td>\n",
       "    </tr>\n",
       "    <tr>\n",
       "      <th>18</th>\n",
       "      <td>F_MED_REATIVO</td>\n",
       "      <td>Reactive Meter Number</td>\n",
       "    </tr>\n",
       "    <tr>\n",
       "      <th>19</th>\n",
       "      <td>F_FPR</td>\n",
       "      <td>Power Factor Registered.</td>\n",
       "    </tr>\n",
       "    <tr>\n",
       "      <th>20</th>\n",
       "      <td>F_FPPR</td>\n",
       "      <td>Registered Tip Power Factor.</td>\n",
       "    </tr>\n",
       "    <tr>\n",
       "      <th>21</th>\n",
       "      <td>F_FPFPR</td>\n",
       "      <td>Registered Off-Peak Power Factor.</td>\n",
       "    </tr>\n",
       "    <tr>\n",
       "      <th>22</th>\n",
       "      <td>F_FCR</td>\n",
       "      <td>Registered Load Factor.</td>\n",
       "    </tr>\n",
       "    <tr>\n",
       "      <th>23</th>\n",
       "      <td>F_FCPR</td>\n",
       "      <td>Registered Peak Load Factor.</td>\n",
       "    </tr>\n",
       "    <tr>\n",
       "      <th>24</th>\n",
       "      <td>F_FCFPR</td>\n",
       "      <td>Registered Off-End Load Factor.</td>\n",
       "    </tr>\n",
       "    <tr>\n",
       "      <th>25</th>\n",
       "      <td>F_CER</td>\n",
       "      <td>Average Recorded Energy Cost.</td>\n",
       "    </tr>\n",
       "    <tr>\n",
       "      <th>26</th>\n",
       "      <td>F_VAL_CON</td>\n",
       "      <td>Consumption Net Value.</td>\n",
       "    </tr>\n",
       "    <tr>\n",
       "      <th>27</th>\n",
       "      <td>F_VAL_CON_P</td>\n",
       "      <td>Net Value Peak Consumption.</td>\n",
       "    </tr>\n",
       "    <tr>\n",
       "      <th>28</th>\n",
       "      <td>F_VAL_CON_FP</td>\n",
       "      <td>Net Value Off-peak Consumption.</td>\n",
       "    </tr>\n",
       "    <tr>\n",
       "      <th>29</th>\n",
       "      <td>F_VAL_UDT</td>\n",
       "      <td>Net Value Exceeded Total Demand.</td>\n",
       "    </tr>\n",
       "    <tr>\n",
       "      <th>30</th>\n",
       "      <td>F_VAL_UDP</td>\n",
       "      <td>Net Value Demand Exceeding</td>\n",
       "    </tr>\n",
       "    <tr>\n",
       "      <th>31</th>\n",
       "      <td>F_VAL_UDFP</td>\n",
       "      <td>Net Value Demand Exceeding</td>\n",
       "    </tr>\n",
       "    <tr>\n",
       "      <th>32</th>\n",
       "      <td>F_VAL_ICMS</td>\n",
       "      <td>ICMS Net Value.</td>\n",
       "    </tr>\n",
       "    <tr>\n",
       "      <th>33</th>\n",
       "      <td>F_VAL_TIP</td>\n",
       "      <td>Net Value Public Lighting Fee.</td>\n",
       "    </tr>\n",
       "    <tr>\n",
       "      <th>34</th>\n",
       "      <td>F_VAL_PIS</td>\n",
       "      <td>PIS Net Value.</td>\n",
       "    </tr>\n",
       "    <tr>\n",
       "      <th>35</th>\n",
       "      <td>F_VAL_COFINS</td>\n",
       "      <td>COFINS Net Value.</td>\n",
       "    </tr>\n",
       "    <tr>\n",
       "      <th>36</th>\n",
       "      <td>F_VAL_D</td>\n",
       "      <td>Liquid Value Demand.</td>\n",
       "    </tr>\n",
       "    <tr>\n",
       "      <th>37</th>\n",
       "      <td>F_VAL_DP</td>\n",
       "      <td>Net Value Peak Demand.</td>\n",
       "    </tr>\n",
       "    <tr>\n",
       "      <th>38</th>\n",
       "      <td>F_VAL_DFP</td>\n",
       "      <td>Net Value Off-Peer Demand.</td>\n",
       "    </tr>\n",
       "    <tr>\n",
       "      <th>39</th>\n",
       "      <td>F_VAL_EER</td>\n",
       "      <td>Net Amount Spent with Excess</td>\n",
       "    </tr>\n",
       "    <tr>\n",
       "      <th>40</th>\n",
       "      <td>F_VAL_EERP</td>\n",
       "      <td>Net Value Spent with Excess Reactive Power Point.</td>\n",
       "    </tr>\n",
       "    <tr>\n",
       "      <th>41</th>\n",
       "      <td>F_VAL_EERFP</td>\n",
       "      <td>Net Amount Spent on Excess Off-Side Reactive E...</td>\n",
       "    </tr>\n",
       "    <tr>\n",
       "      <th>42</th>\n",
       "      <td>F_VAL_EDR</td>\n",
       "      <td>Net Amount Spent on Excess Reactive Demand.</td>\n",
       "    </tr>\n",
       "    <tr>\n",
       "      <th>43</th>\n",
       "      <td>F_VAL_EDRP</td>\n",
       "      <td>Net Amount Spent with Excess Reactive Demand P...</td>\n",
       "    </tr>\n",
       "    <tr>\n",
       "      <th>44</th>\n",
       "      <td>F_VAL_EDRFP</td>\n",
       "      <td>Net Amount Spent on Excess Off-Side Reactive D...</td>\n",
       "    </tr>\n",
       "    <tr>\n",
       "      <th>45</th>\n",
       "      <td>F_VAL_TAXAS</td>\n",
       "      <td>Net Value Fees.</td>\n",
       "    </tr>\n",
       "    <tr>\n",
       "      <th>46</th>\n",
       "      <td>F_VAL_MULTA</td>\n",
       "      <td>Fine Amount.</td>\n",
       "    </tr>\n",
       "    <tr>\n",
       "      <th>47</th>\n",
       "      <td>F_VAL_JUROS</td>\n",
       "      <td>Amount of Interest Charged on the Invoice.</td>\n",
       "    </tr>\n",
       "    <tr>\n",
       "      <th>48</th>\n",
       "      <td>F_VAL_TP</td>\n",
       "      <td>Total Liquid Value.</td>\n",
       "    </tr>\n",
       "    <tr>\n",
       "      <th>49</th>\n",
       "      <td>TENSAO</td>\n",
       "      <td>Voltage type of the Consumer Unit.</td>\n",
       "    </tr>\n",
       "    <tr>\n",
       "      <th>50</th>\n",
       "      <td>FPMEDIO</td>\n",
       "      <td>Average Power Factor.</td>\n",
       "    </tr>\n",
       "    <tr>\n",
       "      <th>51</th>\n",
       "      <td>FCMEDIO</td>\n",
       "      <td>Average Load Factor.</td>\n",
       "    </tr>\n",
       "  </tbody>\n",
       "</table>\n",
       "</div>"
      ],
      "text/plain": [
       "           column                                             Legend\n",
       "0        F_KWH_TF             Total Billed Active Energy Consumption\n",
       "1        F_KWH_PF            Active Energy Consumption Billed Point.\n",
       "2       F_KWH_FPF         Billed Off-peak Active Energy Consumption.\n",
       "3      F_KVARH_RR                  Total Reactive Energy Consumption\n",
       "4     F_KVARH_RPR         Consumption Reactive Energy Registered End\n",
       "5    F_KVARH_RFPR               Off-peak Reactive Energy Consumption\n",
       "6        F_KW_DTR                           Total Registered Demand.\n",
       "7        F_KW_DPR                           Demand Point Registered.\n",
       "8       F_KW_DFPR                         Registered Off-End Demand.\n",
       "9        F_KW_DTF                           On Demand Total Invoice.\n",
       "10       F_KW_DPF                             Demanda Ponta Invoice.\n",
       "11      F_KW_DFPF                     In Demanda Fora-Ponta Invoice.\n",
       "12       F_KW_DPC                           Demand Point Contracted.\n",
       "13      F_KW_DFPC                         Contracted Off-End Demand.\n",
       "14       F_KW_DTU                              Total Demand Exceeded\n",
       "15       F_KW_DPU                               Peak Demand Exceeded\n",
       "16      F_KW_DFPU                            Exceeded Off-End Demand\n",
       "17    F_MED_ATIVO                                Active Meter Number\n",
       "18  F_MED_REATIVO                              Reactive Meter Number\n",
       "19          F_FPR                           Power Factor Registered.\n",
       "20         F_FPPR                       Registered Tip Power Factor.\n",
       "21        F_FPFPR                  Registered Off-Peak Power Factor.\n",
       "22          F_FCR                            Registered Load Factor.\n",
       "23         F_FCPR                       Registered Peak Load Factor.\n",
       "24        F_FCFPR                    Registered Off-End Load Factor.\n",
       "25          F_CER                      Average Recorded Energy Cost.\n",
       "26      F_VAL_CON                             Consumption Net Value.\n",
       "27    F_VAL_CON_P                        Net Value Peak Consumption.\n",
       "28   F_VAL_CON_FP                    Net Value Off-peak Consumption.\n",
       "29      F_VAL_UDT                   Net Value Exceeded Total Demand.\n",
       "30      F_VAL_UDP                         Net Value Demand Exceeding\n",
       "31     F_VAL_UDFP                         Net Value Demand Exceeding\n",
       "32     F_VAL_ICMS                                    ICMS Net Value.\n",
       "33      F_VAL_TIP                     Net Value Public Lighting Fee.\n",
       "34      F_VAL_PIS                                     PIS Net Value.\n",
       "35   F_VAL_COFINS                                  COFINS Net Value.\n",
       "36        F_VAL_D                               Liquid Value Demand.\n",
       "37       F_VAL_DP                             Net Value Peak Demand.\n",
       "38      F_VAL_DFP                         Net Value Off-Peer Demand.\n",
       "39      F_VAL_EER                       Net Amount Spent with Excess\n",
       "40     F_VAL_EERP  Net Value Spent with Excess Reactive Power Point.\n",
       "41    F_VAL_EERFP  Net Amount Spent on Excess Off-Side Reactive E...\n",
       "42      F_VAL_EDR        Net Amount Spent on Excess Reactive Demand.\n",
       "43     F_VAL_EDRP  Net Amount Spent with Excess Reactive Demand P...\n",
       "44    F_VAL_EDRFP  Net Amount Spent on Excess Off-Side Reactive D...\n",
       "45    F_VAL_TAXAS                                    Net Value Fees.\n",
       "46    F_VAL_MULTA                                       Fine Amount.\n",
       "47    F_VAL_JUROS         Amount of Interest Charged on the Invoice.\n",
       "48       F_VAL_TP                                Total Liquid Value.\n",
       "49         TENSAO                 Voltage type of the Consumer Unit.\n",
       "50        FPMEDIO                              Average Power Factor.\n",
       "51        FCMEDIO                               Average Load Factor."
      ]
     },
     "execution_count": 15,
     "metadata": {},
     "output_type": "execute_result"
    }
   ],
   "source": [
    "df"
   ]
  },
  {
   "cell_type": "code",
   "execution_count": 40,
   "metadata": {
    "execution": {
     "iopub.execute_input": "2022-02-20T16:17:32.302107Z",
     "iopub.status.busy": "2022-02-20T16:17:32.301806Z",
     "iopub.status.idle": "2022-02-20T16:17:32.309626Z",
     "shell.execute_reply": "2022-02-20T16:17:32.308928Z",
     "shell.execute_reply.started": "2022-02-20T16:17:32.302074Z"
    }
   },
   "outputs": [],
   "source": [
    "df.to_csv(\"Traslated Legends.csv\",index=False)"
   ]
  }
 ],
 "metadata": {
  "kernelspec": {
   "display_name": "Python 3",
   "language": "python",
   "name": "python3"
  },
  "language_info": {
   "codemirror_mode": {
    "name": "ipython",
    "version": 3
   },
   "file_extension": ".py",
   "mimetype": "text/x-python",
   "name": "python",
   "nbconvert_exporter": "python",
   "pygments_lexer": "ipython3",
   "version": "3.8.8"
  }
 },
 "nbformat": 4,
 "nbformat_minor": 4
}
