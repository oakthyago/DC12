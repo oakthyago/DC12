{
 "cells": [
  {
   "cell_type": "code",
   "execution_count": 8,
   "id": "eabc802b",
   "metadata": {},
   "outputs": [],
   "source": [
    "import pandas as pd"
   ]
  },
  {
   "cell_type": "code",
   "execution_count": 11,
   "id": "672727ba",
   "metadata": {},
   "outputs": [],
   "source": [
    "df = pd.read_excel(\"FATURAS_LEGENDA.xlsx\")"
   ]
  },
  {
   "cell_type": "code",
   "execution_count": 12,
   "id": "f59e1920",
   "metadata": {},
   "outputs": [],
   "source": [
    "df.to_csv(\"WCEB.csv\",index=False)"
   ]
  }
 ],
 "metadata": {
  "kernelspec": {
   "display_name": "Python 3",
   "language": "python",
   "name": "python3"
  },
  "language_info": {
   "codemirror_mode": {
    "name": "ipython",
    "version": 3
   },
   "file_extension": ".py",
   "mimetype": "text/x-python",
   "name": "python",
   "nbconvert_exporter": "python",
   "pygments_lexer": "ipython3",
   "version": "3.8.8"
  }
 },
 "nbformat": 4,
 "nbformat_minor": 5
}
